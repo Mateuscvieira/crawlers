{
 "cells": [
  {
   "cell_type": "markdown",
   "metadata": {},
   "source": [
    "# Solução exercício"
   ]
  },
  {
   "cell_type": "code",
   "execution_count": 1,
   "metadata": {},
   "outputs": [
    {
     "name": "stdout",
     "output_type": "stream",
     "text": [
      "Próxima página\n",
      "Próxima página\n",
      "Próxima página\n",
      "Próxima página\n",
      "Próxima página\n",
      "Próxima página\n",
      "Próxima página\n",
      "Próxima página\n",
      "Próxima página\n",
      "Próxima página\n",
      "Próxima página\n",
      "Próxima página\n",
      "Próxima página\n",
      "Próxima página\n",
      "Próxima página\n",
      "Próxima página\n",
      "Próxima página\n",
      "Próxima página\n",
      "Próxima página\n",
      "Finalizado\n"
     ]
    }
   ],
   "source": [
    "from selenium import webdriver\n",
    "options = webdriver.ChromeOptions()\n",
    "options.add_argument('--headless')\n",
    "options.add_argument(\"user-agent = AULA\")\n",
    "options.add_argument('--no-sandbox')\n",
    "options.add_argument('--disable-dev-shm-usage')\n",
    "\n",
    "driver = webdriver.Chrome('chromedriver', options = options)\n",
    "\n",
    "driver.get('https://www.sinonimos.com.br/sinonimos-populares/')\n",
    "\n",
    "palavras = []\n",
    "while True:\n",
    "    sinon = driver.find_element_by_id('sinonimos-populares')\n",
    "    x = sinon.text.split()\n",
    "    for i in x:\n",
    "        palavras.append(i)\n",
    "    try:\n",
    "        prox = driver.find_element_by_xpath('//*[contains(text(), \"Próxima\")]')\n",
    "        print('Próxima página')\n",
    "        prox.click()\n",
    "    except:\n",
    "        print('Finalizado')\n",
    "        break\n",
    "    "
   ]
  },
  {
   "cell_type": "markdown",
   "metadata": {},
   "source": [
    "Para inicialização usamos as mesmas opções da última aula. "
   ]
  },
  {
   "cell_type": "markdown",
   "metadata": {},
   "source": [
    "O propósito do exercício era listar todas as palavras da lista de sinônimos mais populares. Como ensinado na última aula, usamos um loop infinito usando while True."
   ]
  },
  {
   "cell_type": "markdown",
   "metadata": {},
   "source": [
    "Primeiramente criamos uma lista vazia chamada \"palavras\" para armazenar todas as palavras que raspamos do site. Então, buscamos o elemento de id \"sinonimos-populares\", que é a caixa que guarda as palavras de cada página. Com o método split() do Python nós separamos as palavras uma da outra, que quando pegamos do site estão numa mesma string, e armazenamos por meio do método append das listas do python."
   ]
  },
  {
   "cell_type": "markdown",
   "metadata": {},
   "source": [
    "Na hora de passar para a próxima página temos dois problemas. Primeiro: eventualmente as páginas acabam, e o botão de \"próxima página\" desaparece. Isso é resolvido usando os blocos de try except, que essencialmente tentam fazer uma operação e caso aconteça algum erro executam outra operação. Segundo: o botão não tem id, classe e o xpath em relação às divisões muda a cada página (porque o nome das divisões muda). Porém, sabemos que o texto é constante, então podemos buscar pelo texto, usando a função \"contains()\" do XPath. "
   ]
  },
  {
   "cell_type": "markdown",
   "metadata": {},
   "source": [
    "Tecnicamente podíamos ter deixado o loop acabar com o erro, mas é interessante usar o try except por ser mais bonito."
   ]
  },
  {
   "cell_type": "markdown",
   "metadata": {},
   "source": [
    "# Análise de um projeto real"
   ]
  },
  {
   "cell_type": "markdown",
   "metadata": {},
   "source": [
    "Nessa aula vou apresentar um projeto que fiz como uma forma de finalizar o curso. O projeto era montar uma base de dados de todos os produtos do site marche.com.br"
   ]
  },
  {
   "cell_type": "markdown",
   "metadata": {},
   "source": [
    "Era necessário identificar a categoria, a marca, o produto, o preço, o desconto e a quantidade. Para isso, usamos algumas funções."
   ]
  },
  {
   "cell_type": "markdown",
   "metadata": {},
   "source": [
    "A categoria foi algo simples pois estava na URL. Já na marca precisamos achar alguns padrões, e percebemos que no site a marca estava sempre em caps lock. Com essa informação, definimos a seguinte função:"
   ]
  },
  {
   "cell_type": "code",
   "execution_count": 2,
   "metadata": {},
   "outputs": [],
   "source": [
    "def marca(x):\n",
    "    palavras = x.split()\n",
    "    nome = []\n",
    "    for palavra in palavras:\n",
    "        if palavra.isupper():\n",
    "            nome.append(palavra.title())\n",
    "        elif palavra == '51':\n",
    "            nome.append(palavra)\n",
    "            \n",
    "    if len(nome) != 0:\n",
    "      if nome[0] == 'B':\n",
    "        return 'Oral-B'\n",
    "      else:\n",
    "        return ' '.join(nome[0:])\n",
    "    else:\n",
    "        return 'Genérico'"
   ]
  },
  {
   "cell_type": "code",
   "execution_count": 3,
   "metadata": {},
   "outputs": [
    {
     "data": {
      "text/plain": [
       "'Perdigao'"
      ]
     },
     "execution_count": 3,
     "metadata": {},
     "output_type": "execute_result"
    }
   ],
   "source": [
    "a = 'Frango PERDIGAO'\n",
    "marca(a)"
   ]
  },
  {
   "cell_type": "markdown",
   "metadata": {},
   "source": [
    "A função pega a variável x (que no caso aplicado será o título de um produto), e divide ele em palavras. Então, cria uma lista vazia e começa um loop, que checa qual palavra do título está em caps lock. Assim que identificada, coloca essa palavra na lista \"nome\", com o método .title(), que coloca no formato primeira letra maiúscula e outras minúsculasa. Precisamos criar aqui uma exceção para a marca 51 de cachaça, porque os números não estão em caps lock."
   ]
  },
  {
   "cell_type": "markdown",
   "metadata": {},
   "source": [
    "Percebemos também um erro do lado do site, que colocava só a Oral-B como marca sem caps lock. Por isso, colocamos uma checagem para essa marca. Resta o caso dos produtos genéricos, que colocamos para retornar caso não haja qualquer palavra na lista \"nome\"."
   ]
  },
  {
   "cell_type": "markdown",
   "metadata": {},
   "source": [
    "A parte mais difícil foi pegar a quantidade dos produtos. Para isso usamos duas funções diferentes:"
   ]
  },
  {
   "cell_type": "code",
   "execution_count": 4,
   "metadata": {},
   "outputs": [],
   "source": [
    "def depois_da_marca(x):\n",
    "  palavras = x.split()\n",
    "  lista = []\n",
    "  for split in range(0, len(palavras)):\n",
    "    if palavras[split].isupper() == True:\n",
    "      lista = palavras[split+1:]\n",
    "    elif palavras[split] == '51':\n",
    "      lista = palavras[split+1]\n",
    "    elif marca(x) == 'Genérico':\n",
    "      lista = palavras\n",
    "    else:\n",
    "      pass\n",
    "  if len(lista) == 0:\n",
    "    return ['string placeholder pra não dar \"nonetype object not iterable\"']\n",
    "  else:\n",
    "    return lista\n",
    "def quantidade(x):\n",
    "  a = depois_da_marca(x)\n",
    "  lista = []\n",
    "  for i in a:\n",
    "    try:\n",
    "      int(list(i)[0])\n",
    "      if list(i)[-1].lower() == 'g':\n",
    "        lista.append(i)\n",
    "      elif list(i)[-1].lower() == 'l':\n",
    "        lista.append(i)\n",
    "      elif a[a.index(i)+1].lower() == 'litro':\n",
    "        lista.append(i + 'L')\n",
    "      elif a[a.index(i)+1].lower() == 'unidades' or a[a.index(i)+1].lower() == 'pague':\n",
    "        lista.append(i + 'un')\n",
    "      else:\n",
    "        pass\n",
    "    except ValueError:\n",
    "      pass\n",
    "    except IndexError:\n",
    "      pass\n",
    "  if len(lista) == 0:\n",
    "    return None\n",
    "  else:\n",
    "    if lista[0] == '51':\n",
    "      return lista[1]\n",
    "    else:\n",
    "      return lista[0]"
   ]
  },
  {
   "cell_type": "markdown",
   "metadata": {},
   "source": [
    "A função \"depois_da_marca\" nos dá todas as palavras que vêm depois da marca no título do produto. Nós pensamos que isso seria suficiente, mas resta o problema de que algumas coisas estão escritas como \"2 Litros\" e não \"2L\" ou \"Pague 1 leve 3\", etc. Precisamos então criar a função \"quantidade\" para passar por todas as exceções que achamos."
   ]
  },
  {
   "cell_type": "markdown",
   "metadata": {},
   "source": [
    "Qualquer que seja a unidade, começa com um número. Então, para checar isso, usamos try except de novo. Primeiro tentamos transformar a primeira letra da string em um integer, e se não for possível ir para a próxima string depois da marca. Caso dê certo, checamos se está com marcador de unidade (g ou l) na última letra, e caso sim colocamos na lista final. Caso a próxima palavra seja \"litro\", colocamos um L no final da palavra atual e colocamos isso na lista final, e caso a próxima palavra for unidades ou só \"pague\" (de \"page x leve y\"), colocamos \"un\" no final da palavra e armazenamos na lista final."
   ]
  },
  {
   "cell_type": "code",
   "execution_count": null,
   "metadata": {},
   "outputs": [],
   "source": [
    "options = webdriver.ChromeOptions()\n",
    "options.add_argument('--headless')\n",
    "options.add_argument(\"user-agent = GV-EESP\")\n",
    "options.add_argument('--no-sandbox')\n",
    "options.add_argument('--disable-dev-shm-usage')\n",
    "driver = webdriver.Chrome('chromedriver',options=options)\n",
    "driver.get('https://www.marche.com.br/categorias/acem')\n",
    "\n",
    "source = driver.page_source\n",
    "soup = bs(source)\n",
    "lista_das_subcategorias = []\n",
    "for tag in soup.findAll(class_ = 'nav-link subcategory'):\n",
    "  texto = tag.get_text()\n",
    "  lista_das_subcategorias.append(texto)\n",
    "lista_das_subcategorias = list(set(lista_das_subcategorias))"
   ]
  },
  {
   "cell_type": "markdown",
   "metadata": {},
   "source": [
    "Ao navegar a página, descobrimos um texto escondido no código com os nomes de todas as categorias do site na URL, nessa classe \"nav-link subcategory\". Então só buscamos o código fonte da página e listamos os itens dessa classe numa lista, \"lista_das_subcategorias\". "
   ]
  },
  {
   "cell_type": "code",
   "execution_count": null,
   "metadata": {},
   "outputs": [],
   "source": [
    "categorias = []\n",
    "\n",
    "for i in lista_das_subcategorias:\n",
    "  categoria = re.sub('[(){}<>]', '', i)\n",
    "  remove_digits = categoria.maketrans('', '', digits)\n",
    "  categoria = categoria.translate(remove_digits)\n",
    "  categoria = categoria.lower()\n",
    "  categoria = categoria[:-1]\n",
    "  categoria = unidecode(categoria)\n",
    "  categoria = re.sub(\"\\s+\", \"-\", categoria.strip())\n",
    "  categoria = categoria.replace(',', '')\n",
    "  categorias.append(categoria)"
   ]
  },
  {
   "cell_type": "markdown",
   "metadata": {},
   "source": [
    "Aqui foi só um tratamento da lista, tirando acentos, pontuação, etc."
   ]
  },
  {
   "cell_type": "code",
   "execution_count": null,
   "metadata": {},
   "outputs": [],
   "source": [
    "SCROLL_PAUSE_TIME = 5\n",
    "nomes_dos_produtos = []\n",
    "marcas_dos_produtos = []\n",
    "categoria_dos_produtos = []\n",
    "descontos_dos_produtos = []\n",
    "precos_dos_produtos = []\n",
    "precos_originais_dos_produtos = []\n",
    "numero = 0\n",
    "\n",
    "for categoria in categorias:\n",
    "  driver.get('https://www.marche.com.br/categorias/' + categoria)\n",
    "  \n",
    "  # Get scroll height\n",
    "  last_height = driver.execute_script(\"return document.body.scrollHeight\")\n",
    "\n",
    "  while True:\n",
    "      # Scroll down to bottom\n",
    "      driver.execute_script(\"window.scrollTo(0, document.body.scrollHeight);\")\n",
    "\n",
    "      # Wait to load page\n",
    "      time.sleep(SCROLL_PAUSE_TIME)\n",
    "\n",
    "      # Calculate new scroll height and compare with last scroll height\n",
    "      new_height = driver.execute_script(\"return document.body.scrollHeight\")\n",
    "      if new_height == last_height:\n",
    "          break\n",
    "      last_height = new_height\n",
    "  \n",
    "  source = driver.page_source\n",
    "  soup = bs(source)\n",
    "  cards = soup.find_all(\"div\",{'class':'card'})\n",
    "  for card in cards[1:]:\n",
    "    if card.find('div', {'class':'product-discount'}) is not None:\n",
    "      desconto = card.find('div', {'class':'product-discount'}).get_text()\n",
    "      descontos_dos_produtos.append(desconto.rstrip()[13:])\n",
    "    else:\n",
    "      descontos_dos_produtos.append('Sem desconto')\n",
    "    ###\n",
    "    \n",
    "    nome = card.find_all('h6', {'class' : 'name color-green1 text-xs-center p-x-0_5-xs product-description'})\n",
    "    for a in nome:\n",
    "      nomes_dos_produtos.append(a.text.rstrip()[13:])\n",
    "    categoria_dos_produtos.append(categoria.title())\n",
    "    precos = card.find_all('b', {'class' : 'color-red2'})\n",
    "    for b in precos:\n",
    "      preco_texto = b.text.rstrip()\n",
    "      preco_texto = preco_texto.replace('.', '').replace(',','.')\n",
    "      preco_float = float(preco_texto[3:])\n",
    "      precos_dos_produtos.append(preco_float)\n",
    "    if card.find('span', {'class' : 'color-gray3'}) is not None:\n",
    "      preco_original = card.find('span', {'class' : 'color-gray3'}).get_text()\n",
    "      precos_originais_dos_produtos.append(float(preco_original.rstrip().replace('.','').replace(',','.')[3:]))\n",
    "    else:\n",
    "      precos_originais_dos_produtos.append(None)\n",
    "  numero += 1\n",
    "  print('FINALIZADO ' + categoria.upper() + '(' + str(numero) + '/190)')\n",
    "  #marcas_dos_produtos = [marca(i) for i in nomes_dos_produtos]# --- ISSO FOI PARA FINS DE TESTE\n",
    "  time.sleep(1)\n",
    "\n",
    "quantidades_dos_produtos = [quantidade(i) for i in nomes_dos_produtos]\n",
    "marcas_dos_produtos = [marca(i) for i in nomes_dos_produtos]\n",
    "valor_economizado = [economia(i, q) for i, q in zip(precos_dos_produtos, precos_originais_dos_produtos)] \n",
    "b = {'Categoria' : categoria_dos_produtos, 'Marca' : marcas_dos_produtos, 'Produto' : nomes_dos_produtos, 'Promoção' : descontos_dos_produtos, 'Preço (R$)' : precos_dos_produtos, 'Preço original' : precos_originais_dos_produtos, 'Valor Economizado' : valor_economizado, 'Quantidade' : quantidades_dos_produtos}\n",
    "dataframe_final = pd.DataFrame(b)"
   ]
  },
  {
   "cell_type": "markdown",
   "metadata": {},
   "source": [
    "Aqui nós só abrimos cada uma das categorias, usando um for loop (\"driver.get('https://www.marche.com.br/categorias/' + categoria)\"), e dividimos a informação de cada produto em diversas listas. No final, montamos um dataframe com cada uma das informações como uma coluna."
   ]
  },
  {
   "cell_type": "code",
   "execution_count": null,
   "metadata": {},
   "outputs": [],
   "source": []
  }
 ],
 "metadata": {
  "kernelspec": {
   "display_name": "Python 3",
   "language": "python",
   "name": "python3"
  },
  "language_info": {
   "codemirror_mode": {
    "name": "ipython",
    "version": 3
   },
   "file_extension": ".py",
   "mimetype": "text/x-python",
   "name": "python",
   "nbconvert_exporter": "python",
   "pygments_lexer": "ipython3",
   "version": "3.7.3"
  }
 },
 "nbformat": 4,
 "nbformat_minor": 2
}
